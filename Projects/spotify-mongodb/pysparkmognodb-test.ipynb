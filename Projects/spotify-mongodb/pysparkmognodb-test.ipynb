{
 "cells": [
  {
   "cell_type": "code",
   "execution_count": 2,
   "metadata": {},
   "outputs": [],
   "source": [
    "from pyspark.sql import SparkSession"
   ]
  },
  {
   "cell_type": "code",
   "execution_count": 3,
   "metadata": {},
   "outputs": [],
   "source": [
    "spark = SparkSession.builder.appName(\"Testing\").getOrCreate()"
   ]
  },
  {
   "cell_type": "code",
   "execution_count": 27,
   "metadata": {},
   "outputs": [],
   "source": [
    "source_df = spark.read.option(\"header\", True).option(\"inferSchema\", True).csv('advertising.csv')"
   ]
  },
  {
   "cell_type": "code",
   "execution_count": 39,
   "metadata": {},
   "outputs": [
    {
     "name": "stdout",
     "output_type": "stream",
     "text": [
      "+------------------------+---+-----------+--------------------+-------------------------------------+--------------+----+----------+-------------------+-------------+\n",
      "|Daily Time Spent on Site|Age|Area Income|Daily Internet Usage|Ad Topic Line                        |City          |Male|Country   |Timestamp          |Clicked on Ad|\n",
      "+------------------------+---+-----------+--------------------+-------------------------------------+--------------+----+----------+-------------------+-------------+\n",
      "|68.95                   |35 |61833.9    |256.09              |Cloned 5thgeneration orchestration   |Wrightburgh   |0   |Tunisia   |2016-03-27 00:53:11|0            |\n",
      "|80.23                   |31 |68441.85   |193.77              |Monitored national standardization   |West Jodi     |1   |Nauru     |2016-04-04 01:39:02|0            |\n",
      "|69.47                   |26 |59785.94   |236.5               |Organic bottom-line service-desk     |Davidton      |0   |San Marino|2016-03-13 20:35:42|0            |\n",
      "|74.15                   |29 |54806.18   |245.89              |Triple-buffered reciprocal time-frame|West Terrifurt|1   |Italy     |2016-01-10 02:31:19|0            |\n",
      "|68.37                   |35 |73889.99   |225.58              |Robust logistical utilization        |South Manuel  |0   |Iceland   |2016-06-03 03:36:18|0            |\n",
      "+------------------------+---+-----------+--------------------+-------------------------------------+--------------+----+----------+-------------------+-------------+\n",
      "only showing top 5 rows\n",
      "\n"
     ]
    }
   ],
   "source": [
    "source_df.show(5, False)"
   ]
  },
  {
   "cell_type": "code",
   "execution_count": 29,
   "metadata": {},
   "outputs": [
    {
     "name": "stdout",
     "output_type": "stream",
     "text": [
      "root\n",
      " |-- Daily Time Spent on Site: double (nullable = true)\n",
      " |-- Age: integer (nullable = true)\n",
      " |-- Area Income: double (nullable = true)\n",
      " |-- Daily Internet Usage: double (nullable = true)\n",
      " |-- Ad Topic Line: string (nullable = true)\n",
      " |-- City: string (nullable = true)\n",
      " |-- Male: integer (nullable = true)\n",
      " |-- Country: string (nullable = true)\n",
      " |-- Timestamp: string (nullable = true)\n",
      " |-- Clicked on Ad: integer (nullable = true)\n",
      "\n"
     ]
    }
   ],
   "source": [
    "source_df.printSchema()"
   ]
  },
  {
   "cell_type": "code",
   "execution_count": 15,
   "metadata": {},
   "outputs": [],
   "source": []
  },
  {
   "cell_type": "code",
   "execution_count": 16,
   "metadata": {},
   "outputs": [],
   "source": []
  },
  {
   "cell_type": "code",
   "execution_count": null,
   "metadata": {},
   "outputs": [],
   "source": []
  }
 ],
 "metadata": {
  "kernelspec": {
   "display_name": "Python 3",
   "language": "python",
   "name": "python3"
  },
  "language_info": {
   "codemirror_mode": {
    "name": "ipython",
    "version": 3
   },
   "file_extension": ".py",
   "mimetype": "text/x-python",
   "name": "python",
   "nbconvert_exporter": "python",
   "pygments_lexer": "ipython3",
   "version": "3.7.5"
  }
 },
 "nbformat": 4,
 "nbformat_minor": 2
}
